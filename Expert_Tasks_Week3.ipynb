{
 "cells": [
  {
   "cell_type": "markdown",
   "id": "9309f085",
   "metadata": {},
   "source": [
    "# Advanced Tasks (Week 3) – Statistics, ML Models, and Evaluation"
   ]
  },
  {
   "cell_type": "markdown",
   "id": "c2eab7db",
   "metadata": {},
   "source": [
    "1. Statistics for Data Science"
   ]
  },
  {
   "cell_type": "code",
   "execution_count": 2,
   "id": "668e09b3",
   "metadata": {},
   "outputs": [
    {
     "data": {
      "text/html": [
       "<div>\n",
       "<style scoped>\n",
       "    .dataframe tbody tr th:only-of-type {\n",
       "        vertical-align: middle;\n",
       "    }\n",
       "\n",
       "    .dataframe tbody tr th {\n",
       "        vertical-align: top;\n",
       "    }\n",
       "\n",
       "    .dataframe thead th {\n",
       "        text-align: right;\n",
       "    }\n",
       "</style>\n",
       "<table border=\"1\" class=\"dataframe\">\n",
       "  <thead>\n",
       "    <tr style=\"text-align: right;\">\n",
       "      <th></th>\n",
       "      <th>crim</th>\n",
       "      <th>zn</th>\n",
       "      <th>indus</th>\n",
       "      <th>chas</th>\n",
       "      <th>nox</th>\n",
       "      <th>rm</th>\n",
       "      <th>age</th>\n",
       "      <th>dis</th>\n",
       "      <th>rad</th>\n",
       "      <th>tax</th>\n",
       "      <th>ptratio</th>\n",
       "      <th>b</th>\n",
       "      <th>lstat</th>\n",
       "      <th>medv</th>\n",
       "    </tr>\n",
       "  </thead>\n",
       "  <tbody>\n",
       "    <tr>\n",
       "      <th>0</th>\n",
       "      <td>0.00632</td>\n",
       "      <td>18.0</td>\n",
       "      <td>2.31</td>\n",
       "      <td>0</td>\n",
       "      <td>0.538</td>\n",
       "      <td>6.575</td>\n",
       "      <td>65.2</td>\n",
       "      <td>4.0900</td>\n",
       "      <td>1</td>\n",
       "      <td>296</td>\n",
       "      <td>15.3</td>\n",
       "      <td>396.90</td>\n",
       "      <td>4.98</td>\n",
       "      <td>24.0</td>\n",
       "    </tr>\n",
       "    <tr>\n",
       "      <th>1</th>\n",
       "      <td>0.02731</td>\n",
       "      <td>0.0</td>\n",
       "      <td>7.07</td>\n",
       "      <td>0</td>\n",
       "      <td>0.469</td>\n",
       "      <td>6.421</td>\n",
       "      <td>78.9</td>\n",
       "      <td>4.9671</td>\n",
       "      <td>2</td>\n",
       "      <td>242</td>\n",
       "      <td>17.8</td>\n",
       "      <td>396.90</td>\n",
       "      <td>9.14</td>\n",
       "      <td>21.6</td>\n",
       "    </tr>\n",
       "    <tr>\n",
       "      <th>2</th>\n",
       "      <td>0.02729</td>\n",
       "      <td>0.0</td>\n",
       "      <td>7.07</td>\n",
       "      <td>0</td>\n",
       "      <td>0.469</td>\n",
       "      <td>7.185</td>\n",
       "      <td>61.1</td>\n",
       "      <td>4.9671</td>\n",
       "      <td>2</td>\n",
       "      <td>242</td>\n",
       "      <td>17.8</td>\n",
       "      <td>392.83</td>\n",
       "      <td>4.03</td>\n",
       "      <td>34.7</td>\n",
       "    </tr>\n",
       "    <tr>\n",
       "      <th>3</th>\n",
       "      <td>0.03237</td>\n",
       "      <td>0.0</td>\n",
       "      <td>2.18</td>\n",
       "      <td>0</td>\n",
       "      <td>0.458</td>\n",
       "      <td>6.998</td>\n",
       "      <td>45.8</td>\n",
       "      <td>6.0622</td>\n",
       "      <td>3</td>\n",
       "      <td>222</td>\n",
       "      <td>18.7</td>\n",
       "      <td>394.63</td>\n",
       "      <td>2.94</td>\n",
       "      <td>33.4</td>\n",
       "    </tr>\n",
       "    <tr>\n",
       "      <th>4</th>\n",
       "      <td>0.06905</td>\n",
       "      <td>0.0</td>\n",
       "      <td>2.18</td>\n",
       "      <td>0</td>\n",
       "      <td>0.458</td>\n",
       "      <td>7.147</td>\n",
       "      <td>54.2</td>\n",
       "      <td>6.0622</td>\n",
       "      <td>3</td>\n",
       "      <td>222</td>\n",
       "      <td>18.7</td>\n",
       "      <td>396.90</td>\n",
       "      <td>5.33</td>\n",
       "      <td>36.2</td>\n",
       "    </tr>\n",
       "  </tbody>\n",
       "</table>\n",
       "</div>"
      ],
      "text/plain": [
       "      crim    zn  indus  chas    nox     rm   age     dis  rad  tax  ptratio  \\\n",
       "0  0.00632  18.0   2.31     0  0.538  6.575  65.2  4.0900    1  296     15.3   \n",
       "1  0.02731   0.0   7.07     0  0.469  6.421  78.9  4.9671    2  242     17.8   \n",
       "2  0.02729   0.0   7.07     0  0.469  7.185  61.1  4.9671    2  242     17.8   \n",
       "3  0.03237   0.0   2.18     0  0.458  6.998  45.8  6.0622    3  222     18.7   \n",
       "4  0.06905   0.0   2.18     0  0.458  7.147  54.2  6.0622    3  222     18.7   \n",
       "\n",
       "        b  lstat  medv  \n",
       "0  396.90   4.98  24.0  \n",
       "1  396.90   9.14  21.6  \n",
       "2  392.83   4.03  34.7  \n",
       "3  394.63   2.94  33.4  \n",
       "4  396.90   5.33  36.2  "
      ]
     },
     "execution_count": 2,
     "metadata": {},
     "output_type": "execute_result"
    }
   ],
   "source": [
    "# Load and Explore the Dataset\n",
    "import pandas as pd\n",
    "import numpy as np\n",
    "\n",
    "# Load from a direct URL\n",
    "url = \"https://raw.githubusercontent.com/selva86/datasets/master/BostonHousing.csv\"\n",
    "df = pd.read_csv(url)\n",
    "df.head(5)  \n"
   ]
  },
  {
   "cell_type": "code",
   "execution_count": null,
   "id": "73bced71",
   "metadata": {},
   "outputs": [],
   "source": [
    "# Mean, Median, Mode, Std Deviation for all numeric columns\n",
    "mean_values = df.mean(numeric_only=True)\n",
    "median_values = df.median(numeric_only=True)\n",
    "mode_values = df.mode(numeric_only=True).iloc[0]\n",
    "std_dev_values = df.std(numeric_only=True)\n",
    "\n",
    "summary_stats = pd.DataFrame({\n",
    "    \"Mean\": mean_values,\n",
    "    \"Median\": median_values,\n",
    "    \"Mode\": mode_values,\n",
    "    \"Std Dev\": std_dev_values\n",
    "})\n",
    "\n",
    "summary_stats.round(2)\n"
   ]
  },
  {
   "cell_type": "code",
   "execution_count": null,
   "id": "8da2027b",
   "metadata": {},
   "outputs": [],
   "source": [
    "import matplotlib.pyplot as plt\n",
    "import seaborn as sns\n",
    "import numpy as np\n",
    "\n",
    "# Histogram \n",
    "sns.histplot(df['medv'], kde=True, color='skyblue')\n",
    "plt.title('Distribution of Median House Value (medv)')\n",
    "plt.xlabel('medv')\n",
    "plt.ylabel('Frequency')\n",
    "plt.show()\n",
    "\n",
    "# Central Limit Theorem: Sample means distribution\n",
    "sample_means = [df['medv'].sample(50).mean() for _ in range(1000)]\n",
    "\n",
    "sns.histplot(sample_means, kde=True, color='lightgreen')\n",
    "plt.title('CLT: Sampling Distribution of Sample Means (medv)')\n",
    "plt.xlabel('Sample Mean of medv')\n",
    "plt.ylabel('Frequency')\n",
    "plt.show()\n"
   ]
  },
  {
   "cell_type": "code",
   "execution_count": 8,
   "id": "98ac20f9",
   "metadata": {},
   "outputs": [
    {
     "name": "stdout",
     "output_type": "stream",
     "text": [
      "T-statistic: 3.996, P-value: 0.0001\n"
     ]
    }
   ],
   "source": [
    "# T-test — Do houses near Charles River (chas=1) have different average price?\n",
    "from scipy.stats import ttest_ind\n",
    "\n",
    "# Split groups\n",
    "river = df[df['chas'] == 1]['medv']\n",
    "non_river = df[df['chas'] == 0]['medv']\n",
    "\n",
    "# Perform independent t-test\n",
    "t_stat, p_val = ttest_ind(river, non_river)\n",
    "\n",
    "print(f\"T-statistic: {t_stat:.3f}, P-value: {p_val:.4f}\")"
   ]
  },
  {
   "cell_type": "code",
   "execution_count": 9,
   "id": "e19cb722",
   "metadata": {},
   "outputs": [
    {
     "name": "stdout",
     "output_type": "stream",
     "text": [
      "Chi2 Statistic: 13.90, P-value: 0.0845\n"
     ]
    }
   ],
   "source": [
    "# Chi-Square Test — Association between chas (river) and rad (access to highways)\n",
    "from scipy.stats import chi2_contingency\n",
    "\n",
    "# Create a contingency table\n",
    "contingency_table = pd.crosstab(df['chas'], df['rad'])\n",
    "\n",
    "# Perform chi-square test\n",
    "chi2, p, dof, expected = chi2_contingency(contingency_table)\n",
    "\n",
    "print(f\"Chi2 Statistic: {chi2:.2f}, P-value: {p:.4f}\")"
   ]
  },
  {
   "cell_type": "markdown",
   "id": "2a3623d6",
   "metadata": {},
   "source": [
    "2. Introduction to Machine Learning"
   ]
  },
  {
   "cell_type": "code",
   "execution_count": null,
   "id": "7fcd2406",
   "metadata": {},
   "outputs": [],
   "source": [
    "import pandas as pd\n",
    "from sklearn.model_selection import train_test_split\n",
    "from sklearn.linear_model import LinearRegression\n",
    "from sklearn.neighbors import KNeighborsRegressor\n",
    "from sklearn.metrics import mean_squared_error, r2_score\n",
    "# Define Features (X) and Target (y)\n",
    "\n",
    "# Separate features and target\n",
    "X = df.drop(\"medv\", axis=1)\n",
    "y = df[\"medv\"]\n",
    "\n",
    "# Split data\n",
    "X_train, X_test, y_train, y_test = train_test_split(X, y, test_size=0.2, random_state=42)\n",
    "\n",
    "# Linear Regression\n",
    "lr = LinearRegression()\n",
    "lr.fit(X_train, y_train)\n",
    "\n",
    "# KNN Regressor\n",
    "knn = KNeighborsRegressor(n_neighbors=5)\n",
    "knn.fit(X_train, y_train)\n"
   ]
  },
  {
   "cell_type": "code",
   "execution_count": 17,
   "id": "29ed4c39",
   "metadata": {},
   "outputs": [
    {
     "name": "stdout",
     "output_type": "stream",
     "text": [
      "Linear Regression - RMSE: 4.14, R²: 0.77\n",
      "KNN Regressor     - RMSE: 5.09, R²: 0.65\n"
     ]
    }
   ],
   "source": [
    "# Predictions\n",
    "lr_pred = lr.predict(X_test)\n",
    "knn_pred = knn.predict(X_test)\n",
    "\n",
    "# RMSE & R²\n",
    "lr_rmse = np.sqrt(mean_squared_error(y_test, lr_pred))\n",
    "lr_r2 = r2_score(y_test, lr_pred)\n",
    "\n",
    "knn_rmse = np.sqrt(mean_squared_error(y_test, knn_pred))\n",
    "knn_r2 = r2_score(y_test, knn_pred)\n",
    "\n",
    "print(f\"Linear Regression - RMSE: {lr_rmse:.2f}, R²: {lr_r2:.2f}\")\n",
    "print(f\"KNN Regressor     - RMSE: {knn_rmse:.2f}, R²: {knn_r2:.2f}\")"
   ]
  },
  {
   "cell_type": "code",
   "execution_count": 18,
   "id": "0bd84b94",
   "metadata": {},
   "outputs": [],
   "source": [
    "# Convert regression to binary classification problem\n",
    "y_binary = (y >= 25).astype(int)\n",
    "\n",
    "# Split\n",
    "X_train_c, X_test_c, y_train_c, y_test_c = train_test_split(X, y_binary, test_size=0.2, random_state=42)"
   ]
  },
  {
   "cell_type": "code",
   "execution_count": null,
   "id": "11836aff",
   "metadata": {},
   "outputs": [],
   "source": [
    "from sklearn.linear_model import LogisticRegression\n",
    "\n",
    "clf = LogisticRegression(max_iter=1000)\n",
    "clf.fit(X_train_c, y_train_c)\n",
    "\n",
    "y_pred_c = clf.predict(X_test_c)\n"
   ]
  },
  {
   "cell_type": "code",
   "execution_count": 20,
   "id": "83404d1c",
   "metadata": {},
   "outputs": [
    {
     "name": "stdout",
     "output_type": "stream",
     "text": [
      "Accuracy: 0.9705882352941176\n",
      "Precision: 1.0\n",
      "Recall: 0.8636363636363636\n",
      "F1 Score: 0.926829268292683\n"
     ]
    }
   ],
   "source": [
    "from sklearn.metrics import accuracy_score, precision_score, recall_score, f1_score\n",
    "\n",
    "print(\"Accuracy:\", accuracy_score(y_test_c, y_pred_c))\n",
    "print(\"Precision:\", precision_score(y_test_c, y_pred_c))\n",
    "print(\"Recall:\", recall_score(y_test_c, y_pred_c))\n",
    "print(\"F1 Score:\", f1_score(y_test_c, y_pred_c))\n"
   ]
  },
  {
   "cell_type": "code",
   "execution_count": 21,
   "id": "386c764e",
   "metadata": {},
   "outputs": [
    {
     "data": {
      "image/png": "[encoded data removed]",
      "text/plain": [
       "<Figure size 640x480 with 2 Axes>"
      ]
     },
     "metadata": {},
     "output_type": "display_data"
    },
    {
     "data": {
      "image/png": "[encoded data removed]",
      "text/plain": [
       "<Figure size 640x480 with 1 Axes>"
      ]
     },
     "metadata": {},
     "output_type": "display_data"
    }
   ],
   "source": [
    "from sklearn.metrics import confusion_matrix, ConfusionMatrixDisplay, roc_curve, auc\n",
    "import matplotlib.pyplot as plt\n",
    "\n",
    "# Confusion Matrix\n",
    "cm = confusion_matrix(y_test_c, y_pred_c)\n",
    "disp = ConfusionMatrixDisplay(confusion_matrix=cm)\n",
    "disp.plot()\n",
    "plt.title(\"Confusion Matrix\")\n",
    "plt.show()\n",
    "\n",
    "# ROC Curve\n",
    "y_probs = clf.predict_proba(X_test_c)[:, 1]\n",
    "fpr, tpr, thresholds = roc_curve(y_test_c, y_probs)\n",
    "roc_auc = auc(fpr, tpr)\n",
    "\n",
    "plt.plot(fpr, tpr, label=f\"AUC = {roc_auc:.2f}\", color='blue')\n",
    "plt.plot([0, 1], [0, 1], linestyle='--', color='gray')\n",
    "plt.xlabel('False Positive Rate')\n",
    "plt.ylabel('True Positive Rate')\n",
    "plt.title('ROC Curve')\n",
    "plt.legend()\n",
    "plt.show()"
   ]
  }
 ],
 "metadata": {
  "kernelspec": {
   "display_name": "skin_scan",
   "language": "python",
   "name": "python3"
  },
  "language_info": {
   "codemirror_mode": {
    "name": "ipython",
    "version": 3
   },
   "file_extension": ".py",
   "mimetype": "text/x-python",
   "name": "python",
   "nbconvert_exporter": "python",
   "pygments_lexer": "ipython3",
   "version": "3.9.21"
  }
 },
 "nbformat": 4,
 "nbformat_minor": 5
}
