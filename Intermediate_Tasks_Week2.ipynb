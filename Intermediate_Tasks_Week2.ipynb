{
 "cells": [
  {
   "cell_type": "markdown",
   "id": "bd994fdc",
   "metadata": {},
   "source": [
    "# Intermediate Tasks (Week 2) – Data Wrangling & Exploration"
   ]
  },
  {
   "cell_type": "markdown",
   "id": "c25f9106",
   "metadata": {},
   "source": [
    "1. Data Cleaning"
   ]
  },
  {
   "cell_type": "code",
   "execution_count": null,
   "id": "b8d22293",
   "metadata": {},
   "outputs": [
    {
     "data": {
      "text/html": [
       "<div>\n",
       "<style scoped>\n",
       "    .dataframe tbody tr th:only-of-type {\n",
       "        vertical-align: middle;\n",
       "    }\n",
       "\n",
       "    .dataframe tbody tr th {\n",
       "        vertical-align: top;\n",
       "    }\n",
       "\n",
       "    .dataframe thead th {\n",
       "        text-align: right;\n",
       "    }\n",
       "</style>\n",
       "<table border=\"1\" class=\"dataframe\">\n",
       "  <thead>\n",
       "    <tr style=\"text-align: right;\">\n",
       "      <th></th>\n",
       "      <th>survived</th>\n",
       "      <th>pclass</th>\n",
       "      <th>sex</th>\n",
       "      <th>age</th>\n",
       "      <th>sibsp</th>\n",
       "      <th>parch</th>\n",
       "      <th>fare</th>\n",
       "      <th>embarked</th>\n",
       "      <th>class</th>\n",
       "      <th>who</th>\n",
       "      <th>adult_male</th>\n",
       "      <th>deck</th>\n",
       "      <th>embark_town</th>\n",
       "      <th>alive</th>\n",
       "      <th>alone</th>\n",
       "    </tr>\n",
       "  </thead>\n",
       "  <tbody>\n",
       "    <tr>\n",
       "      <th>0</th>\n",
       "      <td>0</td>\n",
       "      <td>3</td>\n",
       "      <td>male</td>\n",
       "      <td>22.0</td>\n",
       "      <td>1</td>\n",
       "      <td>0</td>\n",
       "      <td>7.2500</td>\n",
       "      <td>S</td>\n",
       "      <td>Third</td>\n",
       "      <td>man</td>\n",
       "      <td>True</td>\n",
       "      <td>NaN</td>\n",
       "      <td>Southampton</td>\n",
       "      <td>no</td>\n",
       "      <td>False</td>\n",
       "    </tr>\n",
       "    <tr>\n",
       "      <th>1</th>\n",
       "      <td>1</td>\n",
       "      <td>1</td>\n",
       "      <td>female</td>\n",
       "      <td>38.0</td>\n",
       "      <td>1</td>\n",
       "      <td>0</td>\n",
       "      <td>71.2833</td>\n",
       "      <td>C</td>\n",
       "      <td>First</td>\n",
       "      <td>woman</td>\n",
       "      <td>False</td>\n",
       "      <td>C</td>\n",
       "      <td>Cherbourg</td>\n",
       "      <td>yes</td>\n",
       "      <td>False</td>\n",
       "    </tr>\n",
       "    <tr>\n",
       "      <th>2</th>\n",
       "      <td>1</td>\n",
       "      <td>3</td>\n",
       "      <td>female</td>\n",
       "      <td>26.0</td>\n",
       "      <td>0</td>\n",
       "      <td>0</td>\n",
       "      <td>7.9250</td>\n",
       "      <td>S</td>\n",
       "      <td>Third</td>\n",
       "      <td>woman</td>\n",
       "      <td>False</td>\n",
       "      <td>NaN</td>\n",
       "      <td>Southampton</td>\n",
       "      <td>yes</td>\n",
       "      <td>True</td>\n",
       "    </tr>\n",
       "    <tr>\n",
       "      <th>3</th>\n",
       "      <td>1</td>\n",
       "      <td>1</td>\n",
       "      <td>female</td>\n",
       "      <td>35.0</td>\n",
       "      <td>1</td>\n",
       "      <td>0</td>\n",
       "      <td>53.1000</td>\n",
       "      <td>S</td>\n",
       "      <td>First</td>\n",
       "      <td>woman</td>\n",
       "      <td>False</td>\n",
       "      <td>C</td>\n",
       "      <td>Southampton</td>\n",
       "      <td>yes</td>\n",
       "      <td>False</td>\n",
       "    </tr>\n",
       "    <tr>\n",
       "      <th>4</th>\n",
       "      <td>0</td>\n",
       "      <td>3</td>\n",
       "      <td>male</td>\n",
       "      <td>35.0</td>\n",
       "      <td>0</td>\n",
       "      <td>0</td>\n",
       "      <td>8.0500</td>\n",
       "      <td>S</td>\n",
       "      <td>Third</td>\n",
       "      <td>man</td>\n",
       "      <td>True</td>\n",
       "      <td>NaN</td>\n",
       "      <td>Southampton</td>\n",
       "      <td>no</td>\n",
       "      <td>True</td>\n",
       "    </tr>\n",
       "  </tbody>\n",
       "</table>\n",
       "</div>"
      ],
      "text/plain": [
       "   survived  pclass     sex   age  sibsp  parch     fare embarked  class  \\\n",
       "0         0       3    male  22.0      1      0   7.2500        S  Third   \n",
       "1         1       1  female  38.0      1      0  71.2833        C  First   \n",
       "2         1       3  female  26.0      0      0   7.9250        S  Third   \n",
       "3         1       1  female  35.0      1      0  53.1000        S  First   \n",
       "4         0       3    male  35.0      0      0   8.0500        S  Third   \n",
       "\n",
       "     who  adult_male deck  embark_town alive  alone  \n",
       "0    man        True  NaN  Southampton    no  False  \n",
       "1  woman       False    C    Cherbourg   yes  False  \n",
       "2  woman       False  NaN  Southampton   yes   True  \n",
       "3  woman       False    C  Southampton   yes  False  \n",
       "4    man        True  NaN  Southampton    no   True  "
      ]
     },
     "execution_count": 66,
     "metadata": {},
     "output_type": "execute_result"
    }
   ],
   "source": [
    "import pandas as pd\n",
    "import seaborn as sns\n",
    "import matplotlib.pyplot as plt\n",
    "titanic = sns.load_dataset(\"titanic\")\n",
    "\n",
    "# first few rows\n",
    "titanic.head()\n"
   ]
  },
  {
   "cell_type": "code",
   "execution_count": null,
   "id": "44e0040d",
   "metadata": {},
   "outputs": [],
   "source": [
    "# Overview of columns and types\n",
    "titanic.info()\n",
    "\n",
    "print(\"\\nMissing values in each column:\\n\")\n",
    "print(titanic.isnull().sum())"
   ]
  },
  {
   "cell_type": "code",
   "execution_count": 68,
   "id": "09c43b76",
   "metadata": {},
   "outputs": [
    {
     "name": "stdout",
     "output_type": "stream",
     "text": [
      "Q1:7.9104, Q3: 31.0, IQR: 23.0896, Lower Bound: -26.724, Upper Bound: 65.6344\n",
      "Q1:20.0, Q3: 37.0, IQR: 17.0, Lower Bound: -5.5, Upper Bound: 62.5\n"
     ]
    }
   ],
   "source": [
    "# Detect and filter outliers using IQR\n",
    "def remove_outliers_iqr(df, column):\n",
    "    Q1 = df[column].quantile(0.25)\n",
    "    Q3 = df[column].quantile(0.75)\n",
    "    IQR = Q3 - Q1\n",
    "    lower = Q1 - 1.5 * IQR\n",
    "    upper = Q3 + 1.5 * IQR\n",
    "    print(f\"Q1:{Q1}, Q3: {Q3}, IQR: {IQR}, Lower Bound: {lower}, Upper Bound: {upper}\")\n",
    "    return df[(df[column] >= lower) & (df[column] <= upper)]\n",
    "\n",
    "# Remove outliers from 'fare'\n",
    "titanic = remove_outliers_iqr(titanic, 'fare')\n",
    "\n",
    "# Remove outliers from 'age' \n",
    "titanic = remove_outliers_iqr(titanic, 'age')"
   ]
  },
  {
   "cell_type": "code",
   "execution_count": null,
   "id": "14eae19d",
   "metadata": {},
   "outputs": [],
   "source": [
    "sns.boxplot(x=titanic['fare'])\n",
    "plt.title(\"Fare (After Removing Outliers)\")\n",
    "plt.show()\n",
    "\n",
    "sns.boxplot(x=titanic['age'])\n",
    "plt.title(\"Age (After Removing Outliers)\")\n",
    "plt.show()"
   ]
  },
  {
   "cell_type": "code",
   "execution_count": null,
   "id": "a0c0a7cf",
   "metadata": {},
   "outputs": [],
   "source": [
    "# Convert Data Types\n",
    "# Create a dummy 'boarding_date' column\n",
    "titanic['boarding_date'] = '1912-04-10'\n",
    "\n",
    "# Convert to datetime format\n",
    "titanic['boarding_date'] = pd.to_datetime(titanic['boarding_date'])\n",
    "\n",
    "# Check types\n",
    "titanic.dtypes"
   ]
  },
  {
   "cell_type": "code",
   "execution_count": 71,
   "id": "f2c25a9d",
   "metadata": {},
   "outputs": [],
   "source": [
    "# Rename Columns, Drop Columns, and Reset Index\n",
    "titanic.rename(columns={\n",
    "    'sex': 'gender',\n",
    "    'pclass': 'passenger_class',\n",
    "    'sibsp': 'siblings_spouses',\n",
    "    'parch': 'parents_children'\n",
    "}, inplace=True)"
   ]
  },
  {
   "cell_type": "code",
   "execution_count": 72,
   "id": "9dcbd598",
   "metadata": {},
   "outputs": [],
   "source": [
    "# Drop columns not needed (e.g., embark_town, who, alive)\n",
    "titanic.drop(columns=['embark_town', 'who', 'alive'], inplace=True)\n",
    "titanic.reset_index(drop=True, inplace=True)"
   ]
  },
  {
   "cell_type": "markdown",
   "id": "7e9e8767",
   "metadata": {},
   "source": [
    " 2. Exploratory Data Analysis (EDA)"
   ]
  },
  {
   "cell_type": "code",
   "execution_count": null,
   "id": "99fe84c1",
   "metadata": {},
   "outputs": [],
   "source": [
    "# Analyze Feature Relationships Using Correlation Heatmap\n",
    "numeric_features = titanic.select_dtypes(include=['int64', 'float64'])\n",
    "\n",
    "# Compute correlation matrix\n",
    "corr_matrix = numeric_features.corr()\n",
    "\n",
    "# Plot heatmap\n",
    "plt.figure(figsize=(10, 6))\n",
    "sns.heatmap(corr_matrix, annot=True, cmap=\"coolwarm\", fmt=\".2f\")\n",
    "plt.title(\"Correlation Heatmap - Numerical Features\")\n",
    "plt.show()"
   ]
  },
  {
   "cell_type": "code",
   "execution_count": 74,
   "id": "92d65196",
   "metadata": {},
   "outputs": [
    {
     "data": {
      "text/plain": [
       "gender\n",
       "female    0.688442\n",
       "male      0.194030\n",
       "Name: survived, dtype: float64"
      ]
     },
     "execution_count": 74,
     "metadata": {},
     "output_type": "execute_result"
    }
   ],
   "source": [
    "# Create Pivot Tables and GroupBy Summaries\n",
    "## Average survival rate by gender\n",
    "titanic.groupby(\"gender\")[\"survived\"].mean()"
   ]
  },
  {
   "cell_type": "code",
   "execution_count": 75,
   "id": "44bfe855",
   "metadata": {},
   "outputs": [
    {
     "data": {
      "text/html": [
       "<div>\n",
       "<style scoped>\n",
       "    .dataframe tbody tr th:only-of-type {\n",
       "        vertical-align: middle;\n",
       "    }\n",
       "\n",
       "    .dataframe tbody tr th {\n",
       "        vertical-align: top;\n",
       "    }\n",
       "\n",
       "    .dataframe thead th {\n",
       "        text-align: right;\n",
       "    }\n",
       "</style>\n",
       "<table border=\"1\" class=\"dataframe\">\n",
       "  <thead>\n",
       "    <tr style=\"text-align: right;\">\n",
       "      <th>passenger_class</th>\n",
       "      <th>1</th>\n",
       "      <th>2</th>\n",
       "      <th>3</th>\n",
       "      <th>All</th>\n",
       "    </tr>\n",
       "    <tr>\n",
       "      <th>gender</th>\n",
       "      <th></th>\n",
       "      <th></th>\n",
       "      <th></th>\n",
       "      <th></th>\n",
       "    </tr>\n",
       "  </thead>\n",
       "  <tbody>\n",
       "    <tr>\n",
       "      <th>female</th>\n",
       "      <td>0.958333</td>\n",
       "      <td>0.918919</td>\n",
       "      <td>0.455446</td>\n",
       "      <td>0.688442</td>\n",
       "    </tr>\n",
       "    <tr>\n",
       "      <th>male</th>\n",
       "      <td>0.416667</td>\n",
       "      <td>0.163043</td>\n",
       "      <td>0.152000</td>\n",
       "      <td>0.194030</td>\n",
       "    </tr>\n",
       "    <tr>\n",
       "      <th>All</th>\n",
       "      <td>0.571429</td>\n",
       "      <td>0.500000</td>\n",
       "      <td>0.239316</td>\n",
       "      <td>0.357737</td>\n",
       "    </tr>\n",
       "  </tbody>\n",
       "</table>\n",
       "</div>"
      ],
      "text/plain": [
       "passenger_class         1         2         3       All\n",
       "gender                                                 \n",
       "female           0.958333  0.918919  0.455446  0.688442\n",
       "male             0.416667  0.163043  0.152000  0.194030\n",
       "All              0.571429  0.500000  0.239316  0.357737"
      ]
     },
     "execution_count": 75,
     "metadata": {},
     "output_type": "execute_result"
    }
   ],
   "source": [
    "#Pivot table: Survival rate by gender and passenger class\n",
    "pd.pivot_table(\n",
    "    titanic,\n",
    "    values='survived',\n",
    "    index='gender',\n",
    "    columns='passenger_class',\n",
    "    aggfunc='mean',\n",
    "    margins=True\n",
    ")"
   ]
  },
  {
   "cell_type": "code",
   "execution_count": 76,
   "id": "363c3761",
   "metadata": {},
   "outputs": [
    {
     "data": {
      "text/html": [
       "<div>\n",
       "<style scoped>\n",
       "    .dataframe tbody tr th:only-of-type {\n",
       "        vertical-align: middle;\n",
       "    }\n",
       "\n",
       "    .dataframe tbody tr th {\n",
       "        vertical-align: top;\n",
       "    }\n",
       "\n",
       "    .dataframe thead th {\n",
       "        text-align: right;\n",
       "    }\n",
       "</style>\n",
       "<table border=\"1\" class=\"dataframe\">\n",
       "  <thead>\n",
       "    <tr style=\"text-align: right;\">\n",
       "      <th></th>\n",
       "      <th></th>\n",
       "      <th>count</th>\n",
       "      <th>mean</th>\n",
       "    </tr>\n",
       "    <tr>\n",
       "      <th>gender</th>\n",
       "      <th>passenger_class</th>\n",
       "      <th></th>\n",
       "      <th></th>\n",
       "    </tr>\n",
       "  </thead>\n",
       "  <tbody>\n",
       "    <tr>\n",
       "      <th rowspan=\"3\" valign=\"top\">female</th>\n",
       "      <th>1</th>\n",
       "      <td>24</td>\n",
       "      <td>0.958333</td>\n",
       "    </tr>\n",
       "    <tr>\n",
       "      <th>2</th>\n",
       "      <td>74</td>\n",
       "      <td>0.918919</td>\n",
       "    </tr>\n",
       "    <tr>\n",
       "      <th>3</th>\n",
       "      <td>101</td>\n",
       "      <td>0.455446</td>\n",
       "    </tr>\n",
       "    <tr>\n",
       "      <th rowspan=\"3\" valign=\"top\">male</th>\n",
       "      <th>1</th>\n",
       "      <td>60</td>\n",
       "      <td>0.416667</td>\n",
       "    </tr>\n",
       "    <tr>\n",
       "      <th>2</th>\n",
       "      <td>92</td>\n",
       "      <td>0.163043</td>\n",
       "    </tr>\n",
       "    <tr>\n",
       "      <th>3</th>\n",
       "      <td>250</td>\n",
       "      <td>0.152000</td>\n",
       "    </tr>\n",
       "  </tbody>\n",
       "</table>\n",
       "</div>"
      ],
      "text/plain": [
       "                        count      mean\n",
       "gender passenger_class                 \n",
       "female 1                   24  0.958333\n",
       "       2                   74  0.918919\n",
       "       3                  101  0.455446\n",
       "male   1                   60  0.416667\n",
       "       2                   92  0.163043\n",
       "       3                  250  0.152000"
      ]
     },
     "execution_count": 76,
     "metadata": {},
     "output_type": "execute_result"
    }
   ],
   "source": [
    "# Group by multiple columns\n",
    "# Survival by gender and class\n",
    "titanic.groupby(['gender', 'passenger_class'])['survived'].agg(['count', 'mean'])"
   ]
  },
  {
   "cell_type": "code",
   "execution_count": null,
   "id": "334c241b",
   "metadata": {},
   "outputs": [],
   "source": [
    "# Plot Multiple Variables Using pairplot() and sns.heatmap()\n",
    "selected_cols = ['survived', 'age', 'fare', 'passenger_class']\n",
    "\n",
    "sns.pairplot(titanic[selected_cols], hue='survived', palette='Set1')\n",
    "plt.suptitle(\"Pairplot - Age, Fare, Class vs Survival\", y=1.02)\n",
    "plt.show()\n",
    "\n",
    "# Create crosstab\n",
    "heatmap_data = pd.crosstab(titanic['passenger_class'], titanic['gender'], values=titanic['survived'], aggfunc='mean')\n",
    "\n",
    "# Plot heatmap\n",
    "sns.heatmap(heatmap_data, annot=True, cmap='YlGnBu')\n",
    "plt.title(\"Survival Rate Heatmap by Class and Gender\")\n",
    "plt.show()"
   ]
  },
  {
   "cell_type": "markdown",
   "id": "84ab5fcb",
   "metadata": {},
   "source": [
    "3. Feature Engineering"
   ]
  },
  {
   "cell_type": "code",
   "execution_count": 78,
   "id": "22ad1ec8",
   "metadata": {},
   "outputs": [],
   "source": [
    "# Create new features (e.g., extract day/month/year from date).\n",
    "titanic['boarding_day'] = titanic['boarding_date'].dt.day\n",
    "titanic['boarding_month'] = titanic['boarding_date'].dt.month\n",
    "titanic['boarding_year'] = titanic['boarding_date'].dt.year\n",
    "\n",
    "# Creating Age Group (e.g., Child, Adult, Senior)\n",
    "def categorize_age(age):\n",
    "    if age < 18:\n",
    "        return 'Child'\n",
    "    elif age < 60:\n",
    "        return 'Adult'\n",
    "    else:\n",
    "        return 'Senior'\n",
    "\n",
    "titanic['age_group'] = titanic['age'].apply(categorize_age)\n",
    "\n",
    "# Family Size Feature\n",
    "titanic['family_size'] = titanic['siblings_spouses'] + titanic['parents_children'] + 1\n"
   ]
  },
  {
   "cell_type": "code",
   "execution_count": 79,
   "id": "0d4608ee",
   "metadata": {},
   "outputs": [],
   "source": [
    "# Normalize fare and age using Min-Max Scaling\n",
    "\n",
    "from sklearn.preprocessing import MinMaxScaler\n",
    "\n",
    "scaler = MinMaxScaler()\n",
    "\n",
    "# Fit and transform selected numeric columns\n",
    "titanic[['age_scaled', 'fare_scaled']] = scaler.fit_transform(titanic[['age', 'fare']])"
   ]
  },
  {
   "cell_type": "code",
   "execution_count": null,
   "id": "e21e2553",
   "metadata": {},
   "outputs": [],
   "source": [
    "# Encode Categorical Variables\n",
    "## One-hot encode gender and embarked\n",
    "titanic = pd.get_dummies(titanic, columns=['gender', 'embarked', 'age_group'], drop_first=True)\n",
    "# print(titanic.head())"
   ]
  },
  {
   "cell_type": "code",
   "execution_count": 83,
   "id": "0d92288e",
   "metadata": {},
   "outputs": [],
   "source": [
    "## Label Encoding \n",
    "from sklearn.preprocessing import LabelEncoder\n",
    "\n",
    "# Label encode 'class' (passenger_class) if needed\n",
    "le = LabelEncoder()\n",
    "titanic['passenger_class_encoded'] = le.fit_transform(titanic['passenger_class'])"
   ]
  },
  {
   "cell_type": "code",
   "execution_count": 87,
   "id": "a862325d",
   "metadata": {},
   "outputs": [
    {
     "name": "stdout",
     "output_type": "stream",
     "text": [
      "   passenger_class  passenger_class_encoded\n",
      "0                3                        2\n",
      "1                3                        2\n",
      "2                1                        0\n",
      "3                3                        2\n",
      "4                1                        0\n"
     ]
    }
   ],
   "source": [
    "print(titanic[['passenger_class', 'passenger_class_encoded']].head())"
   ]
  }
 ],
 "metadata": {
  "kernelspec": {
   "display_name": "skin_scan",
   "language": "python",
   "name": "python3"
  },
  "language_info": {
   "codemirror_mode": {
    "name": "ipython",
    "version": 3
   },
   "file_extension": ".py",
   "mimetype": "text/x-python",
   "name": "python",
   "nbconvert_exporter": "python",
   "pygments_lexer": "ipython3",
   "version": "3.9.21"
  }
 },
 "nbformat": 4,
 "nbformat_minor": 5
}
